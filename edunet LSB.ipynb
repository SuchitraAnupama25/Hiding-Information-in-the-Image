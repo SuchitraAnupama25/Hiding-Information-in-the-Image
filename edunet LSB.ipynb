{
 "cells": [
  {
   "cell_type": "code",
   "execution_count": 18,
   "id": "e9e513d3-acb5-4012-b0be-c9ea34510286",
   "metadata": {},
   "outputs": [],
   "source": [
    "#Least Significant Bit\n",
    "import numpy as np"
   ]
  },
  {
   "cell_type": "code",
   "execution_count": 19,
   "id": "7a5fa394-0f9f-4fdb-b014-a65d752788ce",
   "metadata": {},
   "outputs": [],
   "source": [
    "d = {chr(i):i for i in range(255)} #character to ascii\n",
    "c = {i:chr(i) for i in range(255)} #ascii to characher"
   ]
  },
  {
   "cell_type": "code",
   "execution_count": 35,
   "id": "2f49f9bf-ac20-4497-841b-a99a806c7582",
   "metadata": {},
   "outputs": [],
   "source": [
    "text = \"Hello\"\n",
    "key = \"key\"\n"
   ]
  },
  {
   "cell_type": "code",
   "execution_count": 37,
   "id": "b88b9d56-f47b-4e41-8ff9-29ef00581633",
   "metadata": {},
   "outputs": [],
   "source": [
    "#Random pixel value image \n",
    "x = np.random.randint(0,255,(10,10,3), dtype = np.uint8)"
   ]
  },
  {
   "cell_type": "code",
   "execution_count": 39,
   "id": "4251748a-a24f-4cf6-a082-5a03440eb0da",
   "metadata": {},
   "outputs": [
    {
     "name": "stdout",
     "output_type": "stream",
     "text": [
      "Embedding bit 0 of 'H' at (0, 0, 0) original = 159 new = 158\n",
      "Embedding bit 0 of 'H' at (0, 0, 1) original = 161 new = 160\n",
      "Embedding bit 1 of 'H' at (0, 0, 2) original = 248 new = 249\n",
      "Embedding bit 0 of 'H' at (0, 1, 0) original = 178 new = 178\n",
      "Embedding bit 0 of 'H' at (0, 1, 1) original = 215 new = 214\n",
      "Embedding bit 0 of 'H' at (0, 1, 2) original = 253 new = 252\n",
      "Embedding bit 1 of 'H' at (0, 2, 0) original = 27 new = 27\n",
      "Embedding bit 1 of 'H' at (0, 2, 1) original = 212 new = 213\n",
      "Embedding bit 0 of 'e' at (0, 2, 2) original = 37 new = 36\n",
      "Embedding bit 0 of 'e' at (0, 3, 0) original = 107 new = 106\n",
      "Embedding bit 0 of 'e' at (0, 3, 1) original = 235 new = 234\n",
      "Embedding bit 0 of 'e' at (0, 3, 2) original = 220 new = 220\n",
      "Embedding bit 1 of 'e' at (0, 4, 0) original = 24 new = 25\n",
      "Embedding bit 1 of 'e' at (0, 4, 1) original = 237 new = 237\n",
      "Embedding bit 1 of 'e' at (0, 4, 2) original = 224 new = 225\n",
      "Embedding bit 0 of 'e' at (0, 5, 0) original = 118 new = 118\n",
      "Embedding bit 0 of 'l' at (0, 5, 1) original = 77 new = 76\n",
      "Embedding bit 0 of 'l' at (0, 5, 2) original = 163 new = 162\n",
      "Embedding bit 0 of 'l' at (0, 6, 0) original = 245 new = 244\n",
      "Embedding bit 0 of 'l' at (0, 6, 1) original = 58 new = 58\n",
      "Embedding bit 0 of 'l' at (0, 6, 2) original = 242 new = 242\n",
      "Embedding bit 1 of 'l' at (0, 7, 0) original = 200 new = 201\n",
      "Embedding bit 1 of 'l' at (0, 7, 1) original = 65 new = 65\n",
      "Embedding bit 1 of 'l' at (0, 7, 2) original = 179 new = 179\n",
      "Embedding bit 0 of 'l' at (0, 8, 0) original = 134 new = 134\n",
      "Embedding bit 0 of 'l' at (0, 8, 1) original = 157 new = 156\n",
      "Embedding bit 0 of 'l' at (0, 8, 2) original = 70 new = 70\n",
      "Embedding bit 0 of 'l' at (0, 9, 0) original = 31 new = 30\n",
      "Embedding bit 0 of 'l' at (0, 9, 1) original = 149 new = 148\n",
      "Embedding bit 1 of 'l' at (0, 9, 2) original = 74 new = 75\n",
      "Embedding bit 1 of 'l' at (1, 0, 0) original = 63 new = 63\n",
      "Embedding bit 1 of 'l' at (1, 0, 1) original = 187 new = 187\n",
      "Embedding bit 0 of 'o' at (1, 0, 2) original = 21 new = 20\n",
      "Embedding bit 0 of 'o' at (1, 1, 0) original = 152 new = 152\n",
      "Embedding bit 0 of 'o' at (1, 1, 1) original = 223 new = 222\n",
      "Embedding bit 0 of 'o' at (1, 1, 2) original = 233 new = 232\n",
      "Embedding bit 1 of 'o' at (1, 2, 0) original = 221 new = 221\n",
      "Embedding bit 0 of 'o' at (1, 2, 1) original = 233 new = 232\n",
      "Embedding bit 1 of 'o' at (1, 2, 2) original = 97 new = 97\n",
      "Embedding bit 0 of 'o' at (1, 3, 0) original = 99 new = 98\n"
     ]
    }
   ],
   "source": [
    "#Encrypt using pixel modelfication\n",
    "x_enc = x.copy()\n",
    "n = 0 #no.of rows\n",
    "m = 0 #no.of columns\n",
    "z = 0 #color panel\n",
    "l = len(text)\n",
    "kl = 0\n",
    "for i in range(l):\n",
    "    char_val =d[text[i]]^d[key[kl]]\n",
    "    for bit_pos in range(8):\n",
    "        bit = (char_val >> (7-bit_pos)) & 1\n",
    "        org_val = x_enc[n,m,z]\n",
    "        x_enc[n,m,z] = (org_val & ~1)| bit\n",
    "        print(f\"Embedding bit {bit} of '{text[i]}' at ({n}, {m}, {z}) original = {org_val} new = {x_enc[n,m,z]}\")\n",
    "        z = (z+1) % 3\n",
    "        if z == 0:\n",
    "            m = m+1\n",
    "            if m == x_enc.shape[1]:\n",
    "                m = 0\n",
    "                n = n+1\n",
    "                kl = (kl+1) % len(key)"
   ]
  },
  {
   "cell_type": "code",
   "execution_count": 41,
   "id": "26f5cd02-1d34-4a65-bdc6-6665ce2e50c5",
   "metadata": {},
   "outputs": [
    {
     "name": "stdout",
     "output_type": "stream",
     "text": [
      "Reading bit 0 from (0, 0, 0)\n",
      "Reading bit 0 from (0, 0, 1)\n",
      "Reading bit 1 from (0, 0, 2)\n",
      "Reading bit 0 from (0, 1, 0)\n",
      "Reading bit 0 from (0, 1, 1)\n",
      "Reading bit 0 from (0, 1, 2)\n",
      "Reading bit 1 from (0, 2, 0)\n",
      "Reading bit 1 from (0, 2, 1)\n",
      "Decrypted byte: 35 XOR 107 = 72 -> 'H'\n",
      "Reading bit 0 from (0, 2, 2)\n",
      "Reading bit 0 from (0, 3, 0)\n",
      "Reading bit 0 from (0, 3, 1)\n",
      "Reading bit 0 from (0, 3, 2)\n",
      "Reading bit 1 from (0, 4, 0)\n",
      "Reading bit 1 from (0, 4, 1)\n",
      "Reading bit 1 from (0, 4, 2)\n",
      "Reading bit 0 from (0, 5, 0)\n",
      "Decrypted byte: 14 XOR 101 = 107 -> 'k'\n",
      "Reading bit 0 from (0, 5, 1)\n",
      "Reading bit 0 from (0, 5, 2)\n",
      "Reading bit 0 from (0, 6, 0)\n",
      "Reading bit 0 from (0, 6, 1)\n",
      "Reading bit 0 from (0, 6, 2)\n",
      "Reading bit 1 from (0, 7, 0)\n",
      "Reading bit 1 from (0, 7, 1)\n",
      "Reading bit 1 from (0, 7, 2)\n",
      "Decrypted byte: 7 XOR 121 = 126 -> '~'\n",
      "Reading bit 0 from (0, 8, 0)\n",
      "Reading bit 0 from (0, 8, 1)\n",
      "Reading bit 0 from (0, 8, 2)\n",
      "Reading bit 0 from (0, 9, 0)\n",
      "Reading bit 0 from (0, 9, 1)\n",
      "Reading bit 1 from (0, 9, 2)\n",
      "Reading bit 1 from (1, 0, 0)\n",
      "Reading bit 1 from (1, 0, 1)\n",
      "Decrypted byte: 7 XOR 107 = 108 -> 'l'\n",
      "Reading bit 0 from (1, 0, 2)\n",
      "Reading bit 0 from (1, 1, 0)\n",
      "Reading bit 0 from (1, 1, 1)\n",
      "Reading bit 0 from (1, 1, 2)\n",
      "Reading bit 1 from (1, 2, 0)\n",
      "Reading bit 0 from (1, 2, 1)\n",
      "Reading bit 1 from (1, 2, 2)\n",
      "Reading bit 0 from (1, 3, 0)\n",
      "Decrypted byte: 10 XOR 101 = 111 -> 'o'\n",
      "Decrypt text Hk~lo\n"
     ]
    }
   ],
   "source": [
    "#Decryption\n",
    "n,m,z = 0,0,0\n",
    "kl = 0\n",
    "l = len(text)\n",
    "decrypt = \"\"\n",
    "for i in range(l):\n",
    "    val = 0\n",
    "    for bit_pos in range(8):\n",
    "        bit = x_enc[n,m,z] & 1\n",
    "        val = (val << 1) | bit\n",
    "        print(f\"Reading bit {bit} from ({n}, {m}, {z})\")\n",
    "        z = (z+1) % 3\n",
    "        if z == 0:\n",
    "            m = m+1\n",
    "            if m == x_enc.shape[1]:\n",
    "                m = 0\n",
    "                n = n+1\n",
    "    orig_char = c[val ^ d[key[kl]]]\n",
    "    decrypt+=orig_char\n",
    "    print(f\"Decrypted byte: {val} XOR {d[key[kl]]} = {val ^ d[key[kl]]} -> '{orig_char}'\")\n",
    "    kl = (kl+1)%len(key)\n",
    "print(\"Decrypt text\", decrypt)"
   ]
  },
  {
   "cell_type": "code",
   "execution_count": null,
   "id": "a95fe073-c55e-4a72-a53f-c280682ec8ab",
   "metadata": {},
   "outputs": [],
   "source": []
  }
 ],
 "metadata": {
  "kernelspec": {
   "display_name": "Python 3 (ipykernel)",
   "language": "python",
   "name": "python3"
  },
  "language_info": {
   "codemirror_mode": {
    "name": "ipython",
    "version": 3
   },
   "file_extension": ".py",
   "mimetype": "text/x-python",
   "name": "python",
   "nbconvert_exporter": "python",
   "pygments_lexer": "ipython3",
   "version": "3.12.4"
  }
 },
 "nbformat": 4,
 "nbformat_minor": 5
}
