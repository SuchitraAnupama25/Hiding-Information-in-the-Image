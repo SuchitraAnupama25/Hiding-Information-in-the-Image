{
 "cells": [
  {
   "cell_type": "code",
   "execution_count": 94,
   "id": "51867a0e-e0d6-4ef9-a4b9-b3f242f54d9f",
   "metadata": {},
   "outputs": [
    {
     "name": "stdout",
     "output_type": "stream",
     "text": [
      "Requirement already satisfied: pycryptodome in c:\\users\\lenovo t440\\anaconda3\\lib\\site-packages (3.23.0)\n"
     ]
    }
   ],
   "source": [
    "!pip install pycryptodome"
   ]
  },
  {
   "cell_type": "code",
   "execution_count": 95,
   "id": "fcd8e02c-404a-4c5b-821b-2258647641c7",
   "metadata": {},
   "outputs": [],
   "source": [
    "#secret,key stegno stego object + encryption key cipher\n",
    "import cv2\n",
    "import string\n",
    "import os\n",
    "from Crypto.Cipher import AES\n",
    "from Crypto.Util.Padding import pad, unpad\n",
    "from Crypto.Random import get_random_bytes\n",
    "import hashlib"
   ]
  },
  {
   "cell_type": "code",
   "execution_count": 96,
   "id": "806d47ea-a6a1-4978-bccc-ae9c576751a0",
   "metadata": {},
   "outputs": [],
   "source": [
    "#key generation\n",
    "#encryption\n",
    "#decryption\n",
    "\n",
    "import hashlib\n",
    "\n",
    "def derive_key(userkey):\n",
    "    return hashlib.sha256(userkey.encode()).digest()[:16]  # 16-byte AES key\n",
    "\n",
    "    "
   ]
  },
  {
   "cell_type": "code",
   "execution_count": 176,
   "id": "c73a733e-f98c-4c4f-a27e-0085bf766343",
   "metadata": {},
   "outputs": [],
   "source": [
    "import base64\n",
    "\n",
    "def encrypt_message(msg, userkey):\n",
    "    key = derive_key(userkey)\n",
    "    cipher = AES.new(key, AES.MODE_CBC)\n",
    "    ct = cipher.encrypt(pad(msg.encode(), AES.block_size))\n",
    "    combined = cipher.iv + ct\n",
    "    return base64.b64encode(combined)  # 🔁 base64 encode\n"
   ]
  },
  {
   "cell_type": "code",
   "execution_count": 178,
   "id": "c6836bb0-96e3-473f-acce-759a65cd0bdb",
   "metadata": {},
   "outputs": [],
   "source": [
    "def decrypt_message(cipher_bytes_b64, userkey):\n",
    "    cipher_bytes = base64.b64decode(cipher_bytes_b64)  # 🔁 decode first\n",
    "    key = derive_key(userkey)\n",
    "    iv = cipher_bytes[:16]\n",
    "    ct = cipher_bytes[16:]\n",
    "    cipher = AES.new(key, AES.MODE_CBC, iv)\n",
    "    return unpad(cipher.decrypt(ct), AES.block_size).decode()\n"
   ]
  },
  {
   "cell_type": "code",
   "execution_count": 180,
   "id": "50c53c4e-478e-47d5-995e-99c4f3b44a29",
   "metadata": {},
   "outputs": [],
   "source": [
    "d = {}\n",
    "c = {}\n",
    "for i in range(256):\n",
    "    d[chr(i)] = i\n",
    "    c[i] = chr(i)"
   ]
  },
  {
   "cell_type": "code",
   "execution_count": 182,
   "id": "be5672fb-9456-4d41-a08a-dbb971872620",
   "metadata": {},
   "outputs": [
    {
     "name": "stdout",
     "output_type": "stream",
     "text": [
      "[[[ 71 228 255]\n",
      "  [122 211 255]\n",
      "  [ 82 216 255]\n",
      "  ...\n",
      "  [109 153 194]\n",
      "  [ 75 100 142]\n",
      "  [ 81 101 142]]\n",
      "\n",
      " [[ 56 225 255]\n",
      "  [101 207 254]\n",
      "  [ 68 208 249]\n",
      "  ...\n",
      "  [ 28  49  77]\n",
      "  [ 26  49  81]\n",
      "  [  0  25  60]]\n",
      "\n",
      " [[ 63 210 248]\n",
      "  [ 19 208 241]\n",
      "  [  0 208 242]\n",
      "  ...\n",
      "  [ 99  89 101]\n",
      "  [ 82  90 113]\n",
      "  [ 83 109 139]]\n",
      "\n",
      " ...\n",
      "\n",
      " [[ 11 133 255]\n",
      "  [  5 131 255]\n",
      "  [  0 131 252]\n",
      "  ...\n",
      "  [ 38 167 252]\n",
      "  [ 28 168 251]\n",
      "  [ 21 169 251]]\n",
      "\n",
      " [[ 11 133 255]\n",
      "  [  5 131 255]\n",
      "  [  0 130 251]\n",
      "  ...\n",
      "  [ 19 173 254]\n",
      "  [ 34 172 255]\n",
      "  [ 44 171 255]]\n",
      "\n",
      " [[  0 128 253]\n",
      "  [  0 128 253]\n",
      "  [  1 130 253]\n",
      "  ...\n",
      "  [ 10 166 255]\n",
      "  [ 13 168 255]\n",
      "  [ 15 167 255]]]\n"
     ]
    }
   ],
   "source": [
    "x = cv2.imread(\"C:\\\\Users\\\\Public\\\\fruits.jpg\")\n",
    "print(x)"
   ]
  },
  {
   "cell_type": "code",
   "execution_count": 184,
   "id": "fc92e413-f20c-4407-96ad-050ef57822c2",
   "metadata": {},
   "outputs": [],
   "source": [
    "key = \"123\"\n",
    "text= \"secret\""
   ]
  },
  {
   "cell_type": "code",
   "execution_count": 186,
   "id": "bfc4ee67-d21d-421c-8732-14973fc0709f",
   "metadata": {},
   "outputs": [
    {
     "name": "stdout",
     "output_type": "stream",
     "text": [
      "44\n"
     ]
    }
   ],
   "source": [
    "encrypted_bytes = encrypt_message(text, key)\n",
    "l = len(encrypted_bytes)\n",
    "print(l)"
   ]
  },
  {
   "cell_type": "code",
   "execution_count": 188,
   "id": "d4caf1bb-c8ad-459f-86ea-174640c381dc",
   "metadata": {},
   "outputs": [],
   "source": [
    "n = 0\n",
    "m = 0\n",
    "z = 0\n",
    "kl = 0\n",
    "for i in range(l):\n",
    "    x[n,m,z] = encrypted_bytes[i] ^ d[key[kl]]\n",
    "    n = n+1\n",
    "    m = m+1 % 3\n",
    "    z= (z+1) % 3\n",
    "    kl = (kl+1) % len(key)"
   ]
  },
  {
   "cell_type": "code",
   "execution_count": 190,
   "id": "5cbf1b60-32f6-4dfb-830c-e4274bfe8b4f",
   "metadata": {},
   "outputs": [
    {
     "name": "stdout",
     "output_type": "stream",
     "text": [
      "Success\n"
     ]
    }
   ],
   "source": [
    "cv2.imwrite(\"encrypting.png\", x)\n",
    "os.startfile(\"encrypting.png\")\n",
    "print(\"Success\")"
   ]
  },
  {
   "cell_type": "code",
   "execution_count": 192,
   "id": "0906e8b2-1d09-46a8-b890-e9f325e55952",
   "metadata": {
    "scrolled": true
   },
   "outputs": [
    {
     "name": "stdin",
     "output_type": "stream",
     "text": [
      "Enter key:  123\n"
     ]
    },
    {
     "ename": "Error",
     "evalue": "Invalid base64-encoded string: number of data characters (17) cannot be 1 more than a multiple of 4",
     "output_type": "error",
     "traceback": [
      "\u001b[1;31m---------------------------------------------------------------------------\u001b[0m",
      "\u001b[1;31mError\u001b[0m                                     Traceback (most recent call last)",
      "Cell \u001b[1;32mIn[192], line 17\u001b[0m\n\u001b[0;32m     14\u001b[0m         kl \u001b[38;5;241m=\u001b[39m (kl \u001b[38;5;241m+\u001b[39m \u001b[38;5;241m1\u001b[39m) \u001b[38;5;241m%\u001b[39m \u001b[38;5;28mlen\u001b[39m(key)\n\u001b[0;32m     16\u001b[0m     \u001b[38;5;66;03m# ⚠️ Make sure this only runs after loop ends\u001b[39;00m\n\u001b[1;32m---> 17\u001b[0m     decrypted \u001b[38;5;241m=\u001b[39m decrypt_message(\u001b[38;5;28mbytes\u001b[39m(encrypted_back), key)\n\u001b[0;32m     18\u001b[0m     \u001b[38;5;28mprint\u001b[39m(\u001b[38;5;124m\"\u001b[39m\u001b[38;5;124mDecrypted message:\u001b[39m\u001b[38;5;124m\"\u001b[39m, decrypted)\n\u001b[0;32m     20\u001b[0m \u001b[38;5;28;01melse\u001b[39;00m:\n",
      "Cell \u001b[1;32mIn[178], line 2\u001b[0m, in \u001b[0;36mdecrypt_message\u001b[1;34m(cipher_bytes_b64, userkey)\u001b[0m\n\u001b[0;32m      1\u001b[0m \u001b[38;5;28;01mdef\u001b[39;00m \u001b[38;5;21mdecrypt_message\u001b[39m(cipher_bytes_b64, userkey):\n\u001b[1;32m----> 2\u001b[0m     cipher_bytes \u001b[38;5;241m=\u001b[39m base64\u001b[38;5;241m.\u001b[39mb64decode(cipher_bytes_b64)  \u001b[38;5;66;03m# 🔁 decode first\u001b[39;00m\n\u001b[0;32m      3\u001b[0m     key \u001b[38;5;241m=\u001b[39m derive_key(userkey)\n\u001b[0;32m      4\u001b[0m     iv \u001b[38;5;241m=\u001b[39m cipher_bytes[:\u001b[38;5;241m16\u001b[39m]\n",
      "File \u001b[1;32m~\\anaconda3\\Lib\\base64.py:88\u001b[0m, in \u001b[0;36mb64decode\u001b[1;34m(s, altchars, validate)\u001b[0m\n\u001b[0;32m     86\u001b[0m     \u001b[38;5;28;01massert\u001b[39;00m \u001b[38;5;28mlen\u001b[39m(altchars) \u001b[38;5;241m==\u001b[39m \u001b[38;5;241m2\u001b[39m, \u001b[38;5;28mrepr\u001b[39m(altchars)\n\u001b[0;32m     87\u001b[0m     s \u001b[38;5;241m=\u001b[39m s\u001b[38;5;241m.\u001b[39mtranslate(\u001b[38;5;28mbytes\u001b[39m\u001b[38;5;241m.\u001b[39mmaketrans(altchars, \u001b[38;5;124mb\u001b[39m\u001b[38;5;124m'\u001b[39m\u001b[38;5;124m+/\u001b[39m\u001b[38;5;124m'\u001b[39m))\n\u001b[1;32m---> 88\u001b[0m \u001b[38;5;28;01mreturn\u001b[39;00m binascii\u001b[38;5;241m.\u001b[39ma2b_base64(s, strict_mode\u001b[38;5;241m=\u001b[39mvalidate)\n",
      "\u001b[1;31mError\u001b[0m: Invalid base64-encoded string: number of data characters (17) cannot be 1 more than a multiple of 4"
     ]
    }
   ],
   "source": [
    "# DECRYPT\n",
    "n, m, z = 0, 0, 0\n",
    "kl = 0\n",
    "keyl = input(\"Enter key: \")\n",
    "\n",
    "if key == keyl:\n",
    "    encrypted_back = bytearray()\n",
    "\n",
    "    for i in range(l):  # collect full encrypted data\n",
    "        encrypted_back.append(x[n, m, z] ^ d[key[kl]])\n",
    "        n += 1\n",
    "        m = (m + 1) % 3\n",
    "        z = (z + 1) % 3\n",
    "        kl = (kl + 1) % len(key)\n",
    "\n",
    "    # ⚠️ Make sure this only runs after loop ends\n",
    "    decrypted = decrypt_message(bytes(encrypted_back), key)\n",
    "    print(\"Decrypted message:\", decrypted)\n",
    "\n",
    "else:\n",
    "    print(\"Key Mismatch\")\n"
   ]
  },
  {
   "cell_type": "code",
   "execution_count": null,
   "id": "e316f1f1-0dd7-45a2-9bda-1de31bcb4d98",
   "metadata": {},
   "outputs": [],
   "source": []
  }
 ],
 "metadata": {
  "kernelspec": {
   "display_name": "Python 3 (ipykernel)",
   "language": "python",
   "name": "python3"
  },
  "language_info": {
   "codemirror_mode": {
    "name": "ipython",
    "version": 3
   },
   "file_extension": ".py",
   "mimetype": "text/x-python",
   "name": "python",
   "nbconvert_exporter": "python",
   "pygments_lexer": "ipython3",
   "version": "3.12.4"
  }
 },
 "nbformat": 4,
 "nbformat_minor": 5
}
